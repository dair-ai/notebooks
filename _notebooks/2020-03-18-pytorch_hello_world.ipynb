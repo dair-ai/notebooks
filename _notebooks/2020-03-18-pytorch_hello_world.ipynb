{
  "nbformat": 4,
  "nbformat_minor": 0,
  "metadata": {
    "colab": {
      "name": "pytorch_hello_world.ipynb",
      "provenance": []
    },
    "kernelspec": {
      "name": "python3",
      "display_name": "Python 3"
    }
  },
  "cells": [
    {
      "cell_type": "markdown",
      "metadata": {
        "id": "H7gQFbUxOQtb",
        "colab_type": "text"
      },
      "source": [
        "# A First Shot at Deep Learning with PyTorch\n",
        "\n",
        "> \"Create a hello world for deep learning using PyTorch.\"\n",
        "\n",
        "- toc: false\n",
        "- branch: master\n",
        "- author: Elvis Saravia\n",
        "- badges: true\n",
        "- comments: true\n",
        "- categories: [deep learning, beginner, neural network]\n",
        "- image: images/model-nn.png\n",
        "- hide: false"
      ]
    },
    {
      "cell_type": "markdown",
      "metadata": {
        "id": "9CzZNY9mqFaY",
        "colab_type": "text"
      },
      "source": [
        "## About\n",
        "\n",
        "In this notebook, we are going to take a baby step into the world of deep learning using PyTorch. There are a ton of notebooks out there that teach you the fundamentals of deep learning and PyTorch, so here the idea is to give you some basic introduction to deep learning and PyTorch at a very high level. Therefore, this notebook is targeting beginners but it can also serve as a review for more experienced developers.\n",
        "\n",
        "After completion of this notebook, you are expected to know the basic components of training a basic neural network with PyTorch. I have also left a couple of exercises towards the end with the intention of encouraging more research and practise of your deep learning skills. \n",
        "\n",
        "---\n",
        "\n",
        "**Author:** Elvis Saravia - [Twitter](https://twitter.com/omarsar0) | [LinkedIn](https://www.linkedin.com/in/omarsar/)\n",
        "\n",
        "**Complete Code Walkthrough:** [Blog post](https://medium.com/dair-ai/a-first-shot-at-deep-learning-with-pytorch-4a8252d30c75)"
      ]
    },
    {
      "cell_type": "markdown",
      "metadata": {
        "id": "CkzttrQCwaSQ",
        "colab_type": "text"
      },
      "source": [
        "## Importing the libraries\n",
        "\n",
        "Like with any other programming exercise, the first step is to import the necessary libraries. As we are going to be using Google Colab to program our neural network, we need to install and import the necessary PyTorch libraries."
      ]
    },
    {
      "cell_type": "code",
      "metadata": {
        "id": "7Exoj-CDskQD",
        "colab_type": "code",
        "outputId": "44612825-dbec-4d7a-94bc-147e069e72a9",
        "colab": {
          "base_uri": "https://localhost:8080/",
          "height": 102
        }
      },
      "source": [
        "!pip3 install torch torchvision"
      ],
      "execution_count": 0,
      "outputs": [
        {
          "output_type": "stream",
          "text": [
            "Requirement already satisfied: torch in /usr/local/lib/python3.6/dist-packages (1.4.0)\n",
            "Requirement already satisfied: torchvision in /usr/local/lib/python3.6/dist-packages (0.5.0)\n",
            "Requirement already satisfied: pillow>=4.1.1 in /usr/local/lib/python3.6/dist-packages (from torchvision) (7.0.0)\n",
            "Requirement already satisfied: numpy in /usr/local/lib/python3.6/dist-packages (from torchvision) (1.18.1)\n",
            "Requirement already satisfied: six in /usr/local/lib/python3.6/dist-packages (from torchvision) (1.12.0)\n"
          ],
          "name": "stdout"
        }
      ]
    },
    {
      "cell_type": "code",
      "metadata": {
        "id": "FuhJIaeXO2W9",
        "colab_type": "code",
        "outputId": "d1650745-da7f-4d09-dd0f-45cdf05b3473",
        "colab": {
          "base_uri": "https://localhost:8080/",
          "height": 34
        }
      },
      "source": [
        "## The usual imports\n",
        "import torch\n",
        "import torch.nn as nn\n",
        "\n",
        "## print out the pytorch version used\n",
        "print(torch.__version__)"
      ],
      "execution_count": 0,
      "outputs": [
        {
          "output_type": "stream",
          "text": [
            "1.4.0\n"
          ],
          "name": "stdout"
        }
      ]
    },
    {
      "cell_type": "markdown",
      "metadata": {
        "id": "0a2C_nneO_wp",
        "colab_type": "text"
      },
      "source": [
        "## The Neural Network\n",
        "\n",
        "![alt text](https://drive.google.com/uc?export=view&id=1Lpi4VPBfAV3JkOLopcsGK4L8dyxmPF1b)\n",
        "\n",
        "Before building and training a neural network the first step is to process and prepare the data. In this notebook, we are going to use syntethic data (i.e., fake data) so we won't be using any real world data. \n",
        "\n",
        "For the sake of simplicity, we are going to use the following input and output pairs converted to tensors, which is how data is typically represented in the world of deep learning. The x values represent the input of dimension `(6,1)` and the y values represent the output of similar dimension. The example is taken from this [tutorial](https://github.com/lmoroney/dlaicourse/blob/master/Course%201%20-%20Part%202%20-%20Lesson%202%20-%20Notebook.ipynb). \n",
        "\n",
        "The objective of the neural network model that we are going to build and train is to automatically learn patterns that better characterize the relationship between the `x` and `y` values. Essentially, the model learns the relationship that exists between inputs and outputs which can then be used to predict the corresponding `y` value for any given input `x`."
      ]
    },
    {
      "cell_type": "code",
      "metadata": {
        "id": "JWFtgUX85iwO",
        "colab_type": "code",
        "colab": {}
      },
      "source": [
        "## our data in tensor form\n",
        "x = torch.tensor([[-1.0],  [0.0], [1.0], [2.0], [3.0], [4.0]], dtype=torch.float)\n",
        "y = torch.tensor([[-3.0], [-1.0], [1.0], [3.0], [5.0], [7.0]], dtype=torch.float)"
      ],
      "execution_count": 0,
      "outputs": []
    },
    {
      "cell_type": "code",
      "metadata": {
        "id": "NcQUjR_95z5J",
        "colab_type": "code",
        "outputId": "50e919a8-34b7-4be5-f504-7998c540eb3f",
        "colab": {
          "base_uri": "https://localhost:8080/",
          "height": 34
        }
      },
      "source": [
        "## print size of the input tensor\n",
        "x.size()"
      ],
      "execution_count": 0,
      "outputs": [
        {
          "output_type": "execute_result",
          "data": {
            "text/plain": [
              "torch.Size([6, 1])"
            ]
          },
          "metadata": {
            "tags": []
          },
          "execution_count": 4
        }
      ]
    },
    {
      "cell_type": "markdown",
      "metadata": {
        "id": "9CJXO5WX1QtQ",
        "colab_type": "text"
      },
      "source": [
        "## The Neural Network Components\n",
        "As said earlier, we are going to first define and build out the components of our neural network before training the model.\n",
        "\n",
        "### Model\n",
        "\n",
        "Typically, when building a neural network model, we define the layers and weights which form the basic components of the model. Below we show an example of how to define a hidden layer named `layer1` with size `(1, 1)`. For the purpose of this tutorial, we won't explicitly define the `weights` and allow the built-in functions provided by PyTorch to handle that part for us. By the way, the `nn.Linear(...)` function applies a linear transformation ($y = xA^T + b$) to the data that was provided as its input. We ignore the bias for now by setting `bias=False`.\n",
        "\n",
        "\n",
        "\n"
      ]
    },
    {
      "cell_type": "code",
      "metadata": {
        "id": "N1Ii5JRz3Jud",
        "colab_type": "code",
        "colab": {}
      },
      "source": [
        "## Neural network with 1 hidden layer\n",
        "layer1 = nn.Linear(1,1, bias=False)\n",
        "model = nn.Sequential(layer1)"
      ],
      "execution_count": 0,
      "outputs": []
    },
    {
      "cell_type": "markdown",
      "metadata": {
        "id": "9HTWYD4aMBXQ",
        "colab_type": "text"
      },
      "source": [
        "### Loss and Optimizer\n",
        "The loss function, `nn.MSELoss()`, is in charge of letting the model know how good it has learned the relationship between the input and output. The optimizer (in this case an `SGD`) primary role is to minimize or lower that loss value as it tunes its weights."
      ]
    },
    {
      "cell_type": "code",
      "metadata": {
        "id": "3hglFpejArxx",
        "colab_type": "code",
        "colab": {}
      },
      "source": [
        "## loss function\n",
        "criterion = nn.MSELoss()\n",
        "\n",
        "## optimizer algorithm\n",
        "optimizer = torch.optim.SGD(model.parameters(), lr=0.01)"
      ],
      "execution_count": 0,
      "outputs": []
    },
    {
      "cell_type": "markdown",
      "metadata": {
        "id": "FKj6jvZTUtGh",
        "colab_type": "text"
      },
      "source": [
        "## Training the Neural Network Model\n",
        "We have all the components we need to train our model. Below is the code used to train our model. \n",
        "\n",
        "In simple terms, we train the model by feeding it the input and output pairs for a couple of rounds (i.e., `epoch`). After a series of forward and backward steps, the model somewhat learns the relationship between x and y values. This is notable by the decrease in the computed `loss`. For a more detailed explanation of this code check out this [tutorial](https://medium.com/dair-ai/a-simple-neural-network-from-scratch-with-pytorch-and-google-colab-c7f3830618e0). "
      ]
    },
    {
      "cell_type": "code",
      "metadata": {
        "id": "JeOr9i-aBzRv",
        "colab_type": "code",
        "outputId": "2dc9ea2f-f9d7-4153-ede8-da5144698e9f",
        "colab": {
          "base_uri": "https://localhost:8080/",
          "height": 1000
        }
      },
      "source": [
        "## training\n",
        "for i in range(150):\n",
        "    model = model.train()\n",
        "\n",
        "    ## forward\n",
        "    output = model(x)\n",
        "    loss = criterion(output, y)\n",
        "    optimizer.zero_grad()\n",
        "\n",
        "    ## backward + update model params \n",
        "    loss.backward()\n",
        "    optimizer.step()\n",
        "\n",
        "    model.eval()\n",
        "    print('Epoch: %d | Loss: %.4f' %(i, loss.detach().item()))"
      ],
      "execution_count": 0,
      "outputs": [
        {
          "output_type": "stream",
          "text": [
            "Epoch: 0 | Loss: 25.5853\n",
            "Epoch: 1 | Loss: 20.6815\n",
            "Epoch: 2 | Loss: 16.7388\n",
            "Epoch: 3 | Loss: 13.5688\n",
            "Epoch: 4 | Loss: 11.0201\n",
            "Epoch: 5 | Loss: 8.9709\n",
            "Epoch: 6 | Loss: 7.3234\n",
            "Epoch: 7 | Loss: 5.9987\n",
            "Epoch: 8 | Loss: 4.9337\n",
            "Epoch: 9 | Loss: 4.0774\n",
            "Epoch: 10 | Loss: 3.3889\n",
            "Epoch: 11 | Loss: 2.8353\n",
            "Epoch: 12 | Loss: 2.3903\n",
            "Epoch: 13 | Loss: 2.0325\n",
            "Epoch: 14 | Loss: 1.7448\n",
            "Epoch: 15 | Loss: 1.5134\n",
            "Epoch: 16 | Loss: 1.3275\n",
            "Epoch: 17 | Loss: 1.1779\n",
            "Epoch: 18 | Loss: 1.0577\n",
            "Epoch: 19 | Loss: 0.9610\n",
            "Epoch: 20 | Loss: 0.8833\n",
            "Epoch: 21 | Loss: 0.8208\n",
            "Epoch: 22 | Loss: 0.7706\n",
            "Epoch: 23 | Loss: 0.7302\n",
            "Epoch: 24 | Loss: 0.6977\n",
            "Epoch: 25 | Loss: 0.6716\n",
            "Epoch: 26 | Loss: 0.6506\n",
            "Epoch: 27 | Loss: 0.6338\n",
            "Epoch: 28 | Loss: 0.6202\n",
            "Epoch: 29 | Loss: 0.6093\n",
            "Epoch: 30 | Loss: 0.6005\n",
            "Epoch: 31 | Loss: 0.5935\n",
            "Epoch: 32 | Loss: 0.5878\n",
            "Epoch: 33 | Loss: 0.5832\n",
            "Epoch: 34 | Loss: 0.5796\n",
            "Epoch: 35 | Loss: 0.5766\n",
            "Epoch: 36 | Loss: 0.5742\n",
            "Epoch: 37 | Loss: 0.5723\n",
            "Epoch: 38 | Loss: 0.5708\n",
            "Epoch: 39 | Loss: 0.5696\n",
            "Epoch: 40 | Loss: 0.5686\n",
            "Epoch: 41 | Loss: 0.5678\n",
            "Epoch: 42 | Loss: 0.5671\n",
            "Epoch: 43 | Loss: 0.5666\n",
            "Epoch: 44 | Loss: 0.5662\n",
            "Epoch: 45 | Loss: 0.5659\n",
            "Epoch: 46 | Loss: 0.5656\n",
            "Epoch: 47 | Loss: 0.5654\n",
            "Epoch: 48 | Loss: 0.5652\n",
            "Epoch: 49 | Loss: 0.5651\n",
            "Epoch: 50 | Loss: 0.5650\n",
            "Epoch: 51 | Loss: 0.5649\n",
            "Epoch: 52 | Loss: 0.5648\n",
            "Epoch: 53 | Loss: 0.5648\n",
            "Epoch: 54 | Loss: 0.5647\n",
            "Epoch: 55 | Loss: 0.5647\n",
            "Epoch: 56 | Loss: 0.5646\n",
            "Epoch: 57 | Loss: 0.5646\n",
            "Epoch: 58 | Loss: 0.5646\n",
            "Epoch: 59 | Loss: 0.5646\n",
            "Epoch: 60 | Loss: 0.5646\n",
            "Epoch: 61 | Loss: 0.5646\n",
            "Epoch: 62 | Loss: 0.5645\n",
            "Epoch: 63 | Loss: 0.5645\n",
            "Epoch: 64 | Loss: 0.5645\n",
            "Epoch: 65 | Loss: 0.5645\n",
            "Epoch: 66 | Loss: 0.5645\n",
            "Epoch: 67 | Loss: 0.5645\n",
            "Epoch: 68 | Loss: 0.5645\n",
            "Epoch: 69 | Loss: 0.5645\n",
            "Epoch: 70 | Loss: 0.5645\n",
            "Epoch: 71 | Loss: 0.5645\n",
            "Epoch: 72 | Loss: 0.5645\n",
            "Epoch: 73 | Loss: 0.5645\n",
            "Epoch: 74 | Loss: 0.5645\n",
            "Epoch: 75 | Loss: 0.5645\n",
            "Epoch: 76 | Loss: 0.5645\n",
            "Epoch: 77 | Loss: 0.5645\n",
            "Epoch: 78 | Loss: 0.5645\n",
            "Epoch: 79 | Loss: 0.5645\n",
            "Epoch: 80 | Loss: 0.5645\n",
            "Epoch: 81 | Loss: 0.5645\n",
            "Epoch: 82 | Loss: 0.5645\n",
            "Epoch: 83 | Loss: 0.5645\n",
            "Epoch: 84 | Loss: 0.5645\n",
            "Epoch: 85 | Loss: 0.5645\n",
            "Epoch: 86 | Loss: 0.5645\n",
            "Epoch: 87 | Loss: 0.5645\n",
            "Epoch: 88 | Loss: 0.5645\n",
            "Epoch: 89 | Loss: 0.5645\n",
            "Epoch: 90 | Loss: 0.5645\n",
            "Epoch: 91 | Loss: 0.5645\n",
            "Epoch: 92 | Loss: 0.5645\n",
            "Epoch: 93 | Loss: 0.5645\n",
            "Epoch: 94 | Loss: 0.5645\n",
            "Epoch: 95 | Loss: 0.5645\n",
            "Epoch: 96 | Loss: 0.5645\n",
            "Epoch: 97 | Loss: 0.5645\n",
            "Epoch: 98 | Loss: 0.5645\n",
            "Epoch: 99 | Loss: 0.5645\n",
            "Epoch: 100 | Loss: 0.5645\n",
            "Epoch: 101 | Loss: 0.5645\n",
            "Epoch: 102 | Loss: 0.5645\n",
            "Epoch: 103 | Loss: 0.5645\n",
            "Epoch: 104 | Loss: 0.5645\n",
            "Epoch: 105 | Loss: 0.5645\n",
            "Epoch: 106 | Loss: 0.5645\n",
            "Epoch: 107 | Loss: 0.5645\n",
            "Epoch: 108 | Loss: 0.5645\n",
            "Epoch: 109 | Loss: 0.5645\n",
            "Epoch: 110 | Loss: 0.5645\n",
            "Epoch: 111 | Loss: 0.5645\n",
            "Epoch: 112 | Loss: 0.5645\n",
            "Epoch: 113 | Loss: 0.5645\n",
            "Epoch: 114 | Loss: 0.5645\n",
            "Epoch: 115 | Loss: 0.5645\n",
            "Epoch: 116 | Loss: 0.5645\n",
            "Epoch: 117 | Loss: 0.5645\n",
            "Epoch: 118 | Loss: 0.5645\n",
            "Epoch: 119 | Loss: 0.5645\n",
            "Epoch: 120 | Loss: 0.5645\n",
            "Epoch: 121 | Loss: 0.5645\n",
            "Epoch: 122 | Loss: 0.5645\n",
            "Epoch: 123 | Loss: 0.5645\n",
            "Epoch: 124 | Loss: 0.5645\n",
            "Epoch: 125 | Loss: 0.5645\n",
            "Epoch: 126 | Loss: 0.5645\n",
            "Epoch: 127 | Loss: 0.5645\n",
            "Epoch: 128 | Loss: 0.5645\n",
            "Epoch: 129 | Loss: 0.5645\n",
            "Epoch: 130 | Loss: 0.5645\n",
            "Epoch: 131 | Loss: 0.5645\n",
            "Epoch: 132 | Loss: 0.5645\n",
            "Epoch: 133 | Loss: 0.5645\n",
            "Epoch: 134 | Loss: 0.5645\n",
            "Epoch: 135 | Loss: 0.5645\n",
            "Epoch: 136 | Loss: 0.5645\n",
            "Epoch: 137 | Loss: 0.5645\n",
            "Epoch: 138 | Loss: 0.5645\n",
            "Epoch: 139 | Loss: 0.5645\n",
            "Epoch: 140 | Loss: 0.5645\n",
            "Epoch: 141 | Loss: 0.5645\n",
            "Epoch: 142 | Loss: 0.5645\n",
            "Epoch: 143 | Loss: 0.5645\n",
            "Epoch: 144 | Loss: 0.5645\n",
            "Epoch: 145 | Loss: 0.5645\n",
            "Epoch: 146 | Loss: 0.5645\n",
            "Epoch: 147 | Loss: 0.5645\n",
            "Epoch: 148 | Loss: 0.5645\n",
            "Epoch: 149 | Loss: 0.5645\n"
          ],
          "name": "stdout"
        }
      ]
    },
    {
      "cell_type": "markdown",
      "metadata": {
        "id": "Bp50Q7J0Xkiw",
        "colab_type": "text"
      },
      "source": [
        "## Testing the Model\n",
        "After training the model we have the ability to test the model predictive capability by passing it an input. Below is a simple example of how you could achieve this with our model. The result we obtained aligns with the results obtained in this [notebook](https://github.com/lmoroney/dlaicourse/blob/master/Course%201%20-%20Part%202%20-%20Lesson%202%20-%20Notebook.ipynb), which inspired this entire tutorial. "
      ]
    },
    {
      "cell_type": "code",
      "metadata": {
        "id": "V1odfZpGFoBi",
        "colab_type": "code",
        "outputId": "305ca82f-a71f-4ec0-8177-a7eced1b69b8",
        "colab": {
          "base_uri": "https://localhost:8080/",
          "height": 34
        }
      },
      "source": [
        "## test the model\n",
        "sample = torch.tensor([10.0], dtype=torch.float)\n",
        "predicted = model(sample)\n",
        "print(predicted.detach().item())"
      ],
      "execution_count": 0,
      "outputs": [
        {
          "output_type": "stream",
          "text": [
            "17.096769332885742\n"
          ],
          "name": "stdout"
        }
      ]
    },
    {
      "cell_type": "markdown",
      "metadata": {
        "id": "ozX4V1GhPLyr",
        "colab_type": "text"
      },
      "source": [
        "## Final Words\n",
        "\n",
        "Congratulations! In this tutorial you learned how to train a simple neural network using PyTorch. You also learned about the basic components that make up a neural network model such as the linear transformation layer, optimizer, and loss function. We then trained the model and tested its predictive capabilities. You are well on your way to become more knowledgeable about deep learning and PyTorch. I have provided a bunch of references below if you are interested in practising and learning more. \n",
        "\n",
        "*I would like to thank Laurence Moroney for his excellent [tutorial](https://github.com/lmoroney/dlaicourse/blob/master/Course%201%20-%20Part%202%20-%20Lesson%202%20-%20Notebook.ipynb) which I used as an inspiration for this tutorial.*"
      ]
    },
    {
      "cell_type": "markdown",
      "metadata": {
        "id": "LAABGiMHeDOr",
        "colab_type": "text"
      },
      "source": [
        "## Exercises\n",
        "- Add more examples in the input and output tensors. In addition, try to change the dimensions of the data, say by adding an extra value in each array. What needs to be changed to successfully train the network with the new data?\n",
        "- The model converged really fast, which means it learned the relationship between x and y values after a couple of iterations. Do you think it makes sense to continue training? How would you automate the process of stopping the training after the model loss doesn't subtantially change?\n",
        "- In our example, we used a single hidden layer. Try to take a look at the PyTorch documentation to figure out what you need to do to get a model with more layers. What happens if you add more hidden layers?\n",
        "- We did not discuss the learning rate (`lr-0.001`) and the optimizer in great detail. Check out the [PyTorch documentation](https://pytorch.org/docs/stable/optim.html) to learn more about what other optimizers you can use.\n"
      ]
    },
    {
      "cell_type": "markdown",
      "metadata": {
        "id": "4-o4w9vpPHZz",
        "colab_type": "text"
      },
      "source": [
        "## References\n",
        "- [The Hello World of Deep Learning with Neural Networks](https://github.com/lmoroney/dlaicourse/blob/master/Course%201%20-%20Part%202%20-%20Lesson%202%20-%20Notebook.ipynb)\n",
        "- [A Simple Neural Network from Scratch with PyTorch and Google Colab](https://medium.com/dair-ai/a-simple-neural-network-from-scratch-with-pytorch-and-google-colab-c7f3830618e0?source=collection_category---4------1-----------------------)\n",
        "- [PyTorch Official Docs](https://pytorch.org/docs/stable/nn.html)\n",
        "- [PyTorch 1.2 Quickstart with Google Colab](https://medium.com/dair-ai/pytorch-1-2-quickstart-with-google-colab-6690a30c38d)\n",
        "- [A Gentle Intoduction to PyTorch](https://medium.com/dair-ai/pytorch-1-2-introduction-guide-f6fa9bb7597c)"
      ]
    }
  ]
}